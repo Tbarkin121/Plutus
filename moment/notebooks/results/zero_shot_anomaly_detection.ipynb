{
 "cells": [
  {
   "cell_type": "code",
   "execution_count": 1,
   "metadata": {},
   "outputs": [
    {
     "ename": "TypeError",
     "evalue": "expected str, bytes or os.PathLike object, not NoneType",
     "output_type": "error",
     "traceback": [
      "\u001b[1;31m---------------------------------------------------------------------------\u001b[0m",
      "\u001b[1;31mTypeError\u001b[0m                                 Traceback (most recent call last)",
      "Cell \u001b[1;32mIn[1], line 13\u001b[0m\n\u001b[0;32m     10\u001b[0m \u001b[38;5;28;01mfrom\u001b[39;00m \u001b[38;5;21;01mtqdm\u001b[39;00m \u001b[38;5;28;01mimport\u001b[39;00m tqdm\n\u001b[0;32m     12\u001b[0m \u001b[38;5;28;01mfrom\u001b[39;00m \u001b[38;5;21;01mmoment\u001b[39;00m\u001b[38;5;21;01m.\u001b[39;00m\u001b[38;5;21;01mcommon\u001b[39;00m \u001b[38;5;28;01mimport\u001b[39;00m PATHS\n\u001b[1;32m---> 13\u001b[0m \u001b[38;5;28;01mfrom\u001b[39;00m \u001b[38;5;21;01mmoment\u001b[39;00m\u001b[38;5;21;01m.\u001b[39;00m\u001b[38;5;21;01mutils\u001b[39;00m\u001b[38;5;21;01m.\u001b[39;00m\u001b[38;5;21;01mucr_anomaly_archive_subset\u001b[39;00m \u001b[38;5;28;01mimport\u001b[39;00m ucr_anomaly_archive_subset\n",
      "File \u001b[1;32mc:\\users\\plutonium\\myprojects\\plutus\\moment\\moment\\utils\\ucr_anomaly_archive_subset.py:5\u001b[0m\n\u001b[0;32m      1\u001b[0m \u001b[38;5;28;01mfrom\u001b[39;00m \u001b[38;5;21;01mtqdm\u001b[39;00m \u001b[38;5;28;01mimport\u001b[39;00m tqdm\n\u001b[0;32m      2\u001b[0m \u001b[38;5;28;01mfrom\u001b[39;00m \u001b[38;5;21;01mmoment\u001b[39;00m\u001b[38;5;21;01m.\u001b[39;00m\u001b[38;5;21;01mdata\u001b[39;00m\u001b[38;5;21;01m.\u001b[39;00m\u001b[38;5;21;01manomaly_detection_datasets\u001b[39;00m \u001b[38;5;28;01mimport\u001b[39;00m get_anomaly_detection_datasets\n\u001b[1;32m----> 5\u001b[0m anomaly_detection_datasets \u001b[38;5;241m=\u001b[39m \u001b[43mget_anomaly_detection_datasets\u001b[49m\u001b[43m(\u001b[49m\u001b[43mcollection\u001b[49m\u001b[38;5;241;43m=\u001b[39;49m\u001b[38;5;124;43m\"\u001b[39;49m\u001b[38;5;124;43mTSB-UAD-Public\u001b[39;49m\u001b[38;5;124;43m\"\u001b[39;49m\u001b[43m)\u001b[49m\n\u001b[0;32m      6\u001b[0m KDD_datasets \u001b[38;5;241m=\u001b[39m [i \u001b[38;5;28;01mfor\u001b[39;00m i \u001b[38;5;129;01min\u001b[39;00m anomaly_detection_datasets \u001b[38;5;28;01mif\u001b[39;00m \u001b[38;5;124m\"\u001b[39m\u001b[38;5;124mKDD\u001b[39m\u001b[38;5;124m\"\u001b[39m \u001b[38;5;129;01min\u001b[39;00m i]\n\u001b[0;32m      7\u001b[0m ID_subset \u001b[38;5;241m=\u001b[39m [i \u001b[38;5;28;01mfor\u001b[39;00m i \u001b[38;5;129;01min\u001b[39;00m \u001b[38;5;28mrange\u001b[39m(\u001b[38;5;241m1\u001b[39m, \u001b[38;5;241m251\u001b[39m)]\n",
      "File \u001b[1;32mc:\\users\\plutonium\\myprojects\\plutus\\moment\\moment\\data\\anomaly_detection_datasets.py:22\u001b[0m, in \u001b[0;36mget_anomaly_detection_datasets\u001b[1;34m(collection)\u001b[0m\n\u001b[0;32m     21\u001b[0m \u001b[38;5;28;01mdef\u001b[39;00m \u001b[38;5;21mget_anomaly_detection_datasets\u001b[39m(collection : \u001b[38;5;28mstr\u001b[39m \u001b[38;5;241m=\u001b[39m\u001b[38;5;124m\"\u001b[39m\u001b[38;5;124mTSB-UAD-Public\u001b[39m\u001b[38;5;124m\"\u001b[39m):\n\u001b[1;32m---> 22\u001b[0m     data_dir \u001b[38;5;241m=\u001b[39m \u001b[43mos\u001b[49m\u001b[38;5;241;43m.\u001b[39;49m\u001b[43mpath\u001b[49m\u001b[38;5;241;43m.\u001b[39;49m\u001b[43mjoin\u001b[49m\u001b[43m(\u001b[49m\u001b[43mPATHS\u001b[49m\u001b[38;5;241;43m.\u001b[39;49m\u001b[43mDATA_DIR\u001b[49m\u001b[43m,\u001b[49m\u001b[43m \u001b[49m\u001b[38;5;124;43m\"\u001b[39;49m\u001b[38;5;124;43manomaly_detection\u001b[39;49m\u001b[38;5;124;43m\"\u001b[39;49m\u001b[43m,\u001b[49m\u001b[43m \u001b[49m\u001b[43mcollection\u001b[49m\u001b[43m)\u001b[49m\n\u001b[0;32m     23\u001b[0m     datasets \u001b[38;5;241m=\u001b[39m []\n\u001b[0;32m     24\u001b[0m     \u001b[38;5;28;01mfor\u001b[39;00m root, dirs, files \u001b[38;5;129;01min\u001b[39;00m os\u001b[38;5;241m.\u001b[39mwalk(data_dir):\n",
      "File \u001b[1;32m~\\anaconda3\\envs\\Moment\\lib\\ntpath.py:78\u001b[0m, in \u001b[0;36mjoin\u001b[1;34m(path, *paths)\u001b[0m\n\u001b[0;32m     77\u001b[0m \u001b[38;5;28;01mdef\u001b[39;00m \u001b[38;5;21mjoin\u001b[39m(path, \u001b[38;5;241m*\u001b[39mpaths):\n\u001b[1;32m---> 78\u001b[0m     path \u001b[38;5;241m=\u001b[39m \u001b[43mos\u001b[49m\u001b[38;5;241;43m.\u001b[39;49m\u001b[43mfspath\u001b[49m\u001b[43m(\u001b[49m\u001b[43mpath\u001b[49m\u001b[43m)\u001b[49m\n\u001b[0;32m     79\u001b[0m     \u001b[38;5;28;01mif\u001b[39;00m \u001b[38;5;28misinstance\u001b[39m(path, \u001b[38;5;28mbytes\u001b[39m):\n\u001b[0;32m     80\u001b[0m         sep \u001b[38;5;241m=\u001b[39m \u001b[38;5;124mb\u001b[39m\u001b[38;5;124m'\u001b[39m\u001b[38;5;130;01m\\\\\u001b[39;00m\u001b[38;5;124m'\u001b[39m\n",
      "\u001b[1;31mTypeError\u001b[0m: expected str, bytes or os.PathLike object, not NoneType"
     ]
    }
   ],
   "source": [
    "%load_ext autoreload\n",
    "%autoreload 2\n",
    "\n",
    "import os\n",
    "from datetime import datetime\n",
    "\n",
    "import numpy as np\n",
    "import pandas as pd\n",
    "import matplotlib.pyplot as plt\n",
    "from tqdm import tqdm\n",
    "\n",
    "from moment.common import PATHS\n",
    "from moment.utils.ucr_anomaly_archive_subset import ucr_anomaly_archive_subset"
   ]
  },
  {
   "cell_type": "code",
   "execution_count": null,
   "metadata": {},
   "outputs": [],
   "source": [
    "finetuning_mode = 'linear-probing'\n",
    "experiment_name = \"zero_shot_anomaly_detection\"\n",
    "\n",
    "results_path = os.path.join(PATHS.RESULTS_DIR, experiment_name)\n",
    "print(\"Results path:\", results_path)"
   ]
  },
  {
   "cell_type": "code",
   "execution_count": null,
   "metadata": {},
   "outputs": [],
   "source": [
    "datasets_without_results = []\n",
    "results = []\n",
    "for dataset_name in tqdm(ucr_anomaly_archive_subset, total=len(ucr_anomaly_archive_subset)): \n",
    "    metadata = dataset_name.split('/')[-1].split('_')\n",
    "    data_id, data_name = metadata[0], metadata[3]\n",
    "\n",
    "    if not os.path.exists(os.path.join(results_path, f\"results_{data_id}_{data_name}.csv\")):\n",
    "        datasets_without_results.append(dataset_name)\n",
    "        continue\n",
    "    \n",
    "    best_result_path = os.path.join(results_path, f\"results_{data_id}_{data_name}.csv\")\n",
    "    df = pd.read_csv(best_result_path, index_col=0).T\n",
    "    df['Dataset Name'] = data_name\n",
    "    df['Dataset ID'] = data_id\n",
    "\n",
    "    last_modified_time = int(os.path.getmtime(best_result_path))\n",
    "    last_modified_time = datetime.utcfromtimestamp(last_modified_time).strftime('%d-%m-%Y %H:%M')\n",
    "    df['Timestamp'] = last_modified_time\n",
    "    \n",
    "    results.append(df)\n",
    "\n",
    "results = pd.concat(results, axis=0).reset_index(drop=True)\n",
    "results = results[[\n",
    "    'Dataset ID', 'Dataset Name', 'Adj. Best F1', \n",
    "    'rAUCROC', 'rAUCPR', 'VUSROC', 'VUSPR', 'Timestamp']]\n",
    "\n",
    "results.to_csv(\"../../assets/results/zero_shot/anomaly_detection.csv\", index=False)"
   ]
  },
  {
   "cell_type": "code",
   "execution_count": null,
   "metadata": {},
   "outputs": [],
   "source": [
    "results.dropna(inplace=True)\n",
    "print(f\"Results: {results.shape}\" )\n",
    "results.head()"
   ]
  },
  {
   "cell_type": "code",
   "execution_count": null,
   "metadata": {},
   "outputs": [],
   "source": [
    "results[['Adj. Best F1', 'rAUCROC', 'rAUCPR', 'VUSROC', 'VUSPR']].describe()"
   ]
  },
  {
   "cell_type": "code",
   "execution_count": null,
   "metadata": {},
   "outputs": [],
   "source": [
    "labels = ['Adj. Best F1', 'VUSROC']\n",
    "data = results[labels].to_numpy().astype(np.float32)\n",
    "labels = ['Adj. Best $F_1$', 'VUSROC']\n",
    "\n",
    "boxprops = dict(linestyle='-', linewidth=1, color='k')\n",
    "flierprops = dict(marker='o', markersize=12, markeredgecolor='darkgreen')\n",
    "medianprops = dict(linestyle='-', linewidth=2, color='blue')\n",
    "meanpointprops = dict(marker='D', markeredgecolor='black',\n",
    "                      markerfacecolor='firebrick')\n",
    "meanlineprops = dict(linestyle='--', linewidth=2, color='red')\n",
    "\n",
    "_ = plt.boxplot(\n",
    "    x=data, labels=labels, showmeans=True, \n",
    "    meanline=True, bootstrap=10000, notch=True, \n",
    "    boxprops=boxprops, flierprops=flierprops, \n",
    "    medianprops=medianprops, \n",
    "    meanprops=meanlineprops)\n",
    "\n",
    "plt.ylabel(\"Accuracy\", fontsize=16)\n",
    "plt.xlabel(\"Metrics\", fontsize=16)\n",
    "plt.ylim(0.0, None)\n",
    "plt.xticks(fontsize=14)\n",
    "plt.yticks(fontsize=14)\n",
    "plt.grid(color='lightgray', linestyle='--', linewidth=0.5) \n",
    "plt.savefig(\"../../assets/figures/zero_shot/anomaly_detection.png\", dpi=300, bbox_inches='tight')\n",
    "plt.show()"
   ]
  }
 ],
 "metadata": {
  "kernelspec": {
   "display_name": "Python 3 (ipykernel)",
   "language": "python",
   "name": "python3"
  },
  "language_info": {
   "codemirror_mode": {
    "name": "ipython",
    "version": 3
   },
   "file_extension": ".py",
   "mimetype": "text/x-python",
   "name": "python",
   "nbconvert_exporter": "python",
   "pygments_lexer": "ipython3",
   "version": "3.9.19"
  }
 },
 "nbformat": 4,
 "nbformat_minor": 4
}
